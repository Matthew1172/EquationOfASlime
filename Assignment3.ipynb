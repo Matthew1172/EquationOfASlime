{
 "cells": [
  {
   "cell_type": "markdown",
   "source": [
    "[![Open In Colab](https://colab.research.google.com/assets/colab-badge.svg)](https://colab.research.google.com/github/Matthew1172/EquationOfASlime/blob/master/Assignment3.ipynb)"
   ],
   "metadata": {
    "collapsed": false
   }
  },
  {
   "cell_type": "code",
   "execution_count": 146,
   "metadata": {
    "collapsed": true
   },
   "outputs": [],
   "source": [
    "import pandas as pd\n",
    "import numpy as np\n",
    "from sklearn.model_selection import train_test_split\n",
    "from sklearn.linear_model import LinearRegression\n",
    "from sklearn.model_selection import cross_val_score\n",
    "from sklearn.preprocessing import PolynomialFeatures\n",
    "from sklearn import linear_model"
   ]
  },
  {
   "cell_type": "code",
   "execution_count": 147,
   "outputs": [],
   "source": [
    "rows = 15\n",
    "url = \"https://raw.githubusercontent.com/profmcnich/example_notebook/main/science_data_large.csv\"\n",
    "df = pd.read_csv(url)"
   ],
   "metadata": {
    "collapsed": false,
    "pycharm": {
     "name": "#%%\n"
    }
   }
  },
  {
   "cell_type": "code",
   "execution_count": 148,
   "outputs": [
    {
     "data": {
      "text/plain": "    Temperature °C  Mols KCL     Size nm^3\n0              469       647  6.244743e+05\n1              403       694  5.779610e+05\n2              302       975  6.196847e+05\n3              779       916  1.460449e+06\n4              901        18  4.325726e+04\n5              545       637  7.124634e+05\n6              660       519  7.006960e+05\n7              143       869  2.718260e+05\n8               89       461  8.919803e+04\n9              294       776  4.770210e+05\n10             991       117  2.441771e+05\n11             307       781  5.006455e+05\n12             206        70  3.145200e+04\n13             437       599  5.390215e+05\n14             566        75  9.185271e+04",
      "text/html": "<div>\n<style scoped>\n    .dataframe tbody tr th:only-of-type {\n        vertical-align: middle;\n    }\n\n    .dataframe tbody tr th {\n        vertical-align: top;\n    }\n\n    .dataframe thead th {\n        text-align: right;\n    }\n</style>\n<table border=\"1\" class=\"dataframe\">\n  <thead>\n    <tr style=\"text-align: right;\">\n      <th></th>\n      <th>Temperature °C</th>\n      <th>Mols KCL</th>\n      <th>Size nm^3</th>\n    </tr>\n  </thead>\n  <tbody>\n    <tr>\n      <th>0</th>\n      <td>469</td>\n      <td>647</td>\n      <td>6.244743e+05</td>\n    </tr>\n    <tr>\n      <th>1</th>\n      <td>403</td>\n      <td>694</td>\n      <td>5.779610e+05</td>\n    </tr>\n    <tr>\n      <th>2</th>\n      <td>302</td>\n      <td>975</td>\n      <td>6.196847e+05</td>\n    </tr>\n    <tr>\n      <th>3</th>\n      <td>779</td>\n      <td>916</td>\n      <td>1.460449e+06</td>\n    </tr>\n    <tr>\n      <th>4</th>\n      <td>901</td>\n      <td>18</td>\n      <td>4.325726e+04</td>\n    </tr>\n    <tr>\n      <th>5</th>\n      <td>545</td>\n      <td>637</td>\n      <td>7.124634e+05</td>\n    </tr>\n    <tr>\n      <th>6</th>\n      <td>660</td>\n      <td>519</td>\n      <td>7.006960e+05</td>\n    </tr>\n    <tr>\n      <th>7</th>\n      <td>143</td>\n      <td>869</td>\n      <td>2.718260e+05</td>\n    </tr>\n    <tr>\n      <th>8</th>\n      <td>89</td>\n      <td>461</td>\n      <td>8.919803e+04</td>\n    </tr>\n    <tr>\n      <th>9</th>\n      <td>294</td>\n      <td>776</td>\n      <td>4.770210e+05</td>\n    </tr>\n    <tr>\n      <th>10</th>\n      <td>991</td>\n      <td>117</td>\n      <td>2.441771e+05</td>\n    </tr>\n    <tr>\n      <th>11</th>\n      <td>307</td>\n      <td>781</td>\n      <td>5.006455e+05</td>\n    </tr>\n    <tr>\n      <th>12</th>\n      <td>206</td>\n      <td>70</td>\n      <td>3.145200e+04</td>\n    </tr>\n    <tr>\n      <th>13</th>\n      <td>437</td>\n      <td>599</td>\n      <td>5.390215e+05</td>\n    </tr>\n    <tr>\n      <th>14</th>\n      <td>566</td>\n      <td>75</td>\n      <td>9.185271e+04</td>\n    </tr>\n  </tbody>\n</table>\n</div>"
     },
     "execution_count": 148,
     "metadata": {},
     "output_type": "execute_result"
    }
   ],
   "source": [
    "df.head(rows)"
   ],
   "metadata": {
    "collapsed": false,
    "pycharm": {
     "name": "#%%\n"
    }
   }
  },
  {
   "cell_type": "code",
   "execution_count": 149,
   "outputs": [
    {
     "data": {
      "text/plain": "       Temperature °C     Mols KCL     Size nm^3\ncount     1000.000000  1000.000000  1.000000e+03\nmean       500.500000   471.530000  5.086111e+05\nstd        288.819436   288.482872  4.474838e+05\nmin          1.000000     1.000000  1.611429e+01\n25%        250.750000   226.750000  1.298267e+05\n50%        500.500000   459.500000  3.827182e+05\n75%        750.250000   710.250000  7.603211e+05\nmax       1000.000000  1000.000000  1.972127e+06",
      "text/html": "<div>\n<style scoped>\n    .dataframe tbody tr th:only-of-type {\n        vertical-align: middle;\n    }\n\n    .dataframe tbody tr th {\n        vertical-align: top;\n    }\n\n    .dataframe thead th {\n        text-align: right;\n    }\n</style>\n<table border=\"1\" class=\"dataframe\">\n  <thead>\n    <tr style=\"text-align: right;\">\n      <th></th>\n      <th>Temperature °C</th>\n      <th>Mols KCL</th>\n      <th>Size nm^3</th>\n    </tr>\n  </thead>\n  <tbody>\n    <tr>\n      <th>count</th>\n      <td>1000.000000</td>\n      <td>1000.000000</td>\n      <td>1.000000e+03</td>\n    </tr>\n    <tr>\n      <th>mean</th>\n      <td>500.500000</td>\n      <td>471.530000</td>\n      <td>5.086111e+05</td>\n    </tr>\n    <tr>\n      <th>std</th>\n      <td>288.819436</td>\n      <td>288.482872</td>\n      <td>4.474838e+05</td>\n    </tr>\n    <tr>\n      <th>min</th>\n      <td>1.000000</td>\n      <td>1.000000</td>\n      <td>1.611429e+01</td>\n    </tr>\n    <tr>\n      <th>25%</th>\n      <td>250.750000</td>\n      <td>226.750000</td>\n      <td>1.298267e+05</td>\n    </tr>\n    <tr>\n      <th>50%</th>\n      <td>500.500000</td>\n      <td>459.500000</td>\n      <td>3.827182e+05</td>\n    </tr>\n    <tr>\n      <th>75%</th>\n      <td>750.250000</td>\n      <td>710.250000</td>\n      <td>7.603211e+05</td>\n    </tr>\n    <tr>\n      <th>max</th>\n      <td>1000.000000</td>\n      <td>1000.000000</td>\n      <td>1.972127e+06</td>\n    </tr>\n  </tbody>\n</table>\n</div>"
     },
     "execution_count": 149,
     "metadata": {},
     "output_type": "execute_result"
    }
   ],
   "source": [
    "df.describe()"
   ],
   "metadata": {
    "collapsed": false,
    "pycharm": {
     "name": "#%%\n"
    }
   }
  },
  {
   "cell_type": "code",
   "execution_count": 150,
   "outputs": [
    {
     "data": {
      "text/plain": "     Temperature °C  Mols KCL\n0               469       647\n1               403       694\n2               302       975\n3               779       916\n4               901        18\n..              ...       ...\n995             894       847\n996             327       982\n997             791       213\n998             769       553\n999             919       452\n\n[1000 rows x 2 columns]",
      "text/html": "<div>\n<style scoped>\n    .dataframe tbody tr th:only-of-type {\n        vertical-align: middle;\n    }\n\n    .dataframe tbody tr th {\n        vertical-align: top;\n    }\n\n    .dataframe thead th {\n        text-align: right;\n    }\n</style>\n<table border=\"1\" class=\"dataframe\">\n  <thead>\n    <tr style=\"text-align: right;\">\n      <th></th>\n      <th>Temperature °C</th>\n      <th>Mols KCL</th>\n    </tr>\n  </thead>\n  <tbody>\n    <tr>\n      <th>0</th>\n      <td>469</td>\n      <td>647</td>\n    </tr>\n    <tr>\n      <th>1</th>\n      <td>403</td>\n      <td>694</td>\n    </tr>\n    <tr>\n      <th>2</th>\n      <td>302</td>\n      <td>975</td>\n    </tr>\n    <tr>\n      <th>3</th>\n      <td>779</td>\n      <td>916</td>\n    </tr>\n    <tr>\n      <th>4</th>\n      <td>901</td>\n      <td>18</td>\n    </tr>\n    <tr>\n      <th>...</th>\n      <td>...</td>\n      <td>...</td>\n    </tr>\n    <tr>\n      <th>995</th>\n      <td>894</td>\n      <td>847</td>\n    </tr>\n    <tr>\n      <th>996</th>\n      <td>327</td>\n      <td>982</td>\n    </tr>\n    <tr>\n      <th>997</th>\n      <td>791</td>\n      <td>213</td>\n    </tr>\n    <tr>\n      <th>998</th>\n      <td>769</td>\n      <td>553</td>\n    </tr>\n    <tr>\n      <th>999</th>\n      <td>919</td>\n      <td>452</td>\n    </tr>\n  </tbody>\n</table>\n<p>1000 rows × 2 columns</p>\n</div>"
     },
     "execution_count": 150,
     "metadata": {},
     "output_type": "execute_result"
    }
   ],
   "source": [
    "X, y  = df.iloc[: , :2], df.iloc[: , 2:3]\n",
    "X"
   ],
   "metadata": {
    "collapsed": false,
    "pycharm": {
     "name": "#%%\n"
    }
   }
  },
  {
   "cell_type": "code",
   "execution_count": 151,
   "outputs": [
    {
     "data": {
      "text/plain": "        Size nm^3\n0    6.244743e+05\n1    5.779610e+05\n2    6.196847e+05\n3    1.460449e+06\n4    4.325726e+04\n..            ...\n995  1.545661e+06\n996  6.737041e+05\n997  3.477543e+05\n998  8.684794e+05\n999  8.476413e+05\n\n[1000 rows x 1 columns]",
      "text/html": "<div>\n<style scoped>\n    .dataframe tbody tr th:only-of-type {\n        vertical-align: middle;\n    }\n\n    .dataframe tbody tr th {\n        vertical-align: top;\n    }\n\n    .dataframe thead th {\n        text-align: right;\n    }\n</style>\n<table border=\"1\" class=\"dataframe\">\n  <thead>\n    <tr style=\"text-align: right;\">\n      <th></th>\n      <th>Size nm^3</th>\n    </tr>\n  </thead>\n  <tbody>\n    <tr>\n      <th>0</th>\n      <td>6.244743e+05</td>\n    </tr>\n    <tr>\n      <th>1</th>\n      <td>5.779610e+05</td>\n    </tr>\n    <tr>\n      <th>2</th>\n      <td>6.196847e+05</td>\n    </tr>\n    <tr>\n      <th>3</th>\n      <td>1.460449e+06</td>\n    </tr>\n    <tr>\n      <th>4</th>\n      <td>4.325726e+04</td>\n    </tr>\n    <tr>\n      <th>...</th>\n      <td>...</td>\n    </tr>\n    <tr>\n      <th>995</th>\n      <td>1.545661e+06</td>\n    </tr>\n    <tr>\n      <th>996</th>\n      <td>6.737041e+05</td>\n    </tr>\n    <tr>\n      <th>997</th>\n      <td>3.477543e+05</td>\n    </tr>\n    <tr>\n      <th>998</th>\n      <td>8.684794e+05</td>\n    </tr>\n    <tr>\n      <th>999</th>\n      <td>8.476413e+05</td>\n    </tr>\n  </tbody>\n</table>\n<p>1000 rows × 1 columns</p>\n</div>"
     },
     "execution_count": 151,
     "metadata": {},
     "output_type": "execute_result"
    }
   ],
   "source": [
    "y"
   ],
   "metadata": {
    "collapsed": false,
    "pycharm": {
     "name": "#%%\n"
    }
   }
  },
  {
   "cell_type": "code",
   "execution_count": 152,
   "outputs": [],
   "source": [
    "X_train, X_test, y_train, y_test = train_test_split(X, y, test_size=0.1, train_size=0.9)"
   ],
   "metadata": {
    "collapsed": false,
    "pycharm": {
     "name": "#%%\n"
    }
   }
  },
  {
   "cell_type": "code",
   "execution_count": 153,
   "outputs": [
    {
     "name": "stdout",
     "output_type": "stream",
     "text": [
      "[[-414430.2193772]]\n",
      "Score: 0.8805773557282204\n",
      "Coefficients: [[ 868.4983004  1040.04785038]]\n",
      "Intercept: [-417378.81337835]\n"
     ]
    },
    {
     "name": "stderr",
     "output_type": "stream",
     "text": [
      "C:\\Users\\pecko\\anaconda3\\envs\\EquationOfASlime\\lib\\site-packages\\sklearn\\base.py:450: UserWarning: X does not have valid feature names, but LinearRegression was fitted with feature names\n",
      "  warnings.warn(\n"
     ]
    }
   ],
   "source": [
    "lr = LinearRegression().fit(X_train, y_train)\n",
    "print(lr.predict(np.array([[1, 2]])))\n",
    "print(\"Score:\", lr.score(X_test, y_test))\n",
    "print(\"Coefficients:\", lr.coef_)\n",
    "print(\"Intercept:\", lr.intercept_)"
   ],
   "metadata": {
    "collapsed": false,
    "pycharm": {
     "name": "#%%\n"
    }
   }
  },
  {
   "cell_type": "markdown",
   "source": [
    "$S = -410736 +  869.35852(a) + 1036.00412(b) $\n",
    "<p>We can see above that by using linear regression, the model achieves an 83.5% accuracy. This means that the values obtained from the line of best fit are about 16% different from the actual difference when comparing how much temperature °C and Mols KCL creates a change in Size nm^3.</p>"
   ],
   "metadata": {
    "collapsed": false
   }
  },
  {
   "cell_type": "code",
   "execution_count": 154,
   "outputs": [
    {
     "data": {
      "text/plain": "array([0.92845546, 0.90823823, 0.88029052, 0.7808221 , 0.89969372,\n       0.82026888])"
     },
     "execution_count": 154,
     "metadata": {},
     "output_type": "execute_result"
    }
   ],
   "source": [
    "cross_val_score(lr, X_test, y_test, cv=6)"
   ],
   "metadata": {
    "collapsed": false,
    "pycharm": {
     "name": "#%%\n"
    }
   }
  },
  {
   "cell_type": "markdown",
   "source": [
    "The 6 cross validation score shows the accuracy using linear regression is in the range of 71%-88%."
   ],
   "metadata": {
    "collapsed": false
   }
  },
  {
   "cell_type": "code",
   "execution_count": 155,
   "outputs": [
    {
     "name": "stdout",
     "output_type": "stream",
     "text": [
      "Accuracy: 1.0\n",
      "Intercept: 2.0504114218056202e-05\n",
      "Coefficients: [ 0.00000000e+00  1.20000000e+01 -1.58603912e-07 -1.84299243e-11\n",
      "  2.00000000e+00  2.85714287e-02]\n",
      "Predict:  [36.20002004]\n"
     ]
    },
    {
     "name": "stderr",
     "output_type": "stream",
     "text": [
      "C:\\Users\\pecko\\anaconda3\\envs\\EquationOfASlime\\lib\\site-packages\\sklearn\\utils\\validation.py:993: DataConversionWarning: A column-vector y was passed when a 1d array was expected. Please change the shape of y to (n_samples, ), for example using ravel().\n",
      "  y = column_or_1d(y, warn=True)\n"
     ]
    }
   ],
   "source": [
    "poly = PolynomialFeatures(degree=2)\n",
    "X_train = poly.fit_transform(X_train)\n",
    "X_test = poly.fit_transform(X_test)\n",
    "reg = linear_model.BayesianRidge()\n",
    "reg.fit(X_train, y_train)\n",
    "print(\"Accuracy:\", reg.score(X_test, y_test))\n",
    "print(\"Intercept:\", reg.intercept_)\n",
    "print(\"Coefficients:\", reg.coef_)\n",
    "print(\"Predict: \", reg.predict(np.array([[1, 2, 3, 5, 6, 7]])))"
   ],
   "metadata": {
    "collapsed": false,
    "pycharm": {
     "name": "#%%\n"
    }
   }
  },
  {
   "cell_type": "markdown",
   "source": [
    "$y = 1.85481(10^{-5}) + 0(1) + 1.2(10^2)(a) - 1.31005e(10^{-7})(b) - 5.72841(10^{-12})(a^2) + 2(ab) + 2.85714(10^{-2})(b^2)$\n",
    "<p>The accuracy of the model is 100%. This means that the polynomialfeatures regression is much more accurate than the linear regression. This shows that polynomialfeatures regression achieves higher accuracy than linear regression.</p>"
   ],
   "metadata": {
    "collapsed": false
   }
  },
  {
   "cell_type": "code",
   "execution_count": 156,
   "outputs": [
    {
     "name": "stderr",
     "output_type": "stream",
     "text": [
      "C:\\Users\\pecko\\anaconda3\\envs\\EquationOfASlime\\lib\\site-packages\\sklearn\\utils\\validation.py:993: DataConversionWarning: A column-vector y was passed when a 1d array was expected. Please change the shape of y to (n_samples, ), for example using ravel().\n",
      "  y = column_or_1d(y, warn=True)\n",
      "C:\\Users\\pecko\\anaconda3\\envs\\EquationOfASlime\\lib\\site-packages\\sklearn\\utils\\validation.py:993: DataConversionWarning: A column-vector y was passed when a 1d array was expected. Please change the shape of y to (n_samples, ), for example using ravel().\n",
      "  y = column_or_1d(y, warn=True)\n",
      "C:\\Users\\pecko\\anaconda3\\envs\\EquationOfASlime\\lib\\site-packages\\sklearn\\utils\\validation.py:993: DataConversionWarning: A column-vector y was passed when a 1d array was expected. Please change the shape of y to (n_samples, ), for example using ravel().\n",
      "  y = column_or_1d(y, warn=True)\n",
      "C:\\Users\\pecko\\anaconda3\\envs\\EquationOfASlime\\lib\\site-packages\\sklearn\\utils\\validation.py:993: DataConversionWarning: A column-vector y was passed when a 1d array was expected. Please change the shape of y to (n_samples, ), for example using ravel().\n",
      "  y = column_or_1d(y, warn=True)\n",
      "C:\\Users\\pecko\\anaconda3\\envs\\EquationOfASlime\\lib\\site-packages\\sklearn\\utils\\validation.py:993: DataConversionWarning: A column-vector y was passed when a 1d array was expected. Please change the shape of y to (n_samples, ), for example using ravel().\n",
      "  y = column_or_1d(y, warn=True)\n",
      "C:\\Users\\pecko\\anaconda3\\envs\\EquationOfASlime\\lib\\site-packages\\sklearn\\utils\\validation.py:993: DataConversionWarning: A column-vector y was passed when a 1d array was expected. Please change the shape of y to (n_samples, ), for example using ravel().\n",
      "  y = column_or_1d(y, warn=True)\n"
     ]
    },
    {
     "data": {
      "text/plain": "array([1., 1., 1., 1., 1., 1.])"
     },
     "execution_count": 156,
     "metadata": {},
     "output_type": "execute_result"
    }
   ],
   "source": [
    "cross_val_score(reg, X_test, y_test, cv=6)"
   ],
   "metadata": {
    "collapsed": false,
    "pycharm": {
     "name": "#%%\n"
    }
   }
  }
 ],
 "metadata": {
  "kernelspec": {
   "display_name": "Python 3",
   "language": "python",
   "name": "python3"
  },
  "language_info": {
   "codemirror_mode": {
    "name": "ipython",
    "version": 2
   },
   "file_extension": ".py",
   "mimetype": "text/x-python",
   "name": "python",
   "nbconvert_exporter": "python",
   "pygments_lexer": "ipython2",
   "version": "2.7.6"
  }
 },
 "nbformat": 4,
 "nbformat_minor": 0
}